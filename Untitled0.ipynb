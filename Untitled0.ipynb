{
 "metadata": {
  "name": "",
  "signature": "sha256:bf2d8189052c15135a1c11cf6c84b1e598705b175f912408483fb852b1b3f322"
 },
 "nbformat": 3,
 "nbformat_minor": 0,
 "worksheets": [
  {
   "cells": [
    {
     "cell_type": "code",
     "collapsed": false,
     "input": [
      "ls"
     ],
     "language": "python",
     "metadata": {},
     "outputs": [
      {
       "output_type": "stream",
       "stream": "stdout",
       "text": [
        "\u001b[0m\u001b[01;34mArchive\u001b[0m/              op_functions.pyc\r\n",
        "crop_functions.py     README.txt\r\n",
        "Download_tides.py     run_models.py\r\n",
        "get_tides.py          seek_latest_canadian_data.py\r\n",
        "\u001b[01;34mhrdps_grib_20170505\u001b[0m/  seek_latest_canadian_data.pyc\r\n",
        "\u001b[01;34mhrdps_grib_20170508\u001b[0m/  \u001b[01;34mtest\u001b[0m/\r\n",
        "local.idx             test_codes.py\r\n",
        "my_utilities.py       test_gdal.py\r\n",
        "my_utilities.pyc      tide_pred_9448576.txt\r\n",
        "op_functions.py       Untitled0.ipynb\r\n"
       ]
      }
     ],
     "prompt_number": 2
    },
    {
     "cell_type": "code",
     "collapsed": false,
     "input": [
      "from op_functions import latest_hrdps_forecast"
     ],
     "language": "python",
     "metadata": {},
     "outputs": [],
     "prompt_number": 3
    },
    {
     "cell_type": "code",
     "collapsed": false,
     "input": [
      "latest_hrdps_forecast()"
     ],
     "language": "python",
     "metadata": {},
     "outputs": [
      {
       "output_type": "stream",
       "stream": "stdout",
       "text": [
        "48 hour file doesn't exist yet for 20170510, 18Z  Trying earlier time.\n"
       ]
      },
      {
       "metadata": {},
       "output_type": "pyout",
       "prompt_number": 4,
       "text": [
        "('20170510', 12)"
       ]
      }
     ],
     "prompt_number": 4
    },
    {
     "cell_type": "code",
     "collapsed": false,
     "input": [],
     "language": "python",
     "metadata": {},
     "outputs": []
    }
   ],
   "metadata": {}
  }
 ]
}