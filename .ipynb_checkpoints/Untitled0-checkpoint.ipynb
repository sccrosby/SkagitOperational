{
 "metadata": {
  "name": "",
  "signature": "sha256:e950339237cad579439c09309367a0259681c0b91e74f072778133a62fa20a7a"
 },
 "nbformat": 3,
 "nbformat_minor": 0,
 "worksheets": []
}